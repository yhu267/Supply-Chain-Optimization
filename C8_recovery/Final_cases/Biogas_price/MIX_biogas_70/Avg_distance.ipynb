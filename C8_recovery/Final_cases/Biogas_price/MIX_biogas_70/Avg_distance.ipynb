{
 "cells": [
  {
   "cell_type": "code",
   "execution_count": 15,
   "metadata": {
    "collapsed": true
   },
   "outputs": [],
   "source": [
    "Flow = readdlm(\"flow_p1_results_1.csv\",',');\n",
    "node_matrix = readdlm(\"node_matrix.csv\",',');\n",
    "NODES = node_matrix[:,1];\n",
    "node_lat    =   Dict(zip(NODES, node_matrix[:, 3]));\n",
    "node_long   =   Dict(zip(NODES, node_matrix[:, 4]));\n",
    "distance = Dict((\"n1\", \"n2\") => 1.1)\n",
    "# Haversine Formula Parameters. Used to estimate distance from latitude and longitude data\n",
    "R = 6335.439\n",
    "# Using the Haversine formula\n",
    "for i in NODES\n",
    "  for j in NODES\n",
    "    distance[(i, j)] = 2*R*asin(sqrt(sin((node_lat[j] - node_lat[i])*pi/2/180)^2 + cos(node_lat[j]*pi/180)*cos(node_lat[i]*pi/180)*sin((node_long[j] - node_long[i])*pi/2/180)^2))\n",
    "  end\n",
    "end"
   ]
  },
  {
   "cell_type": "code",
   "execution_count": 16,
   "metadata": {
    "collapsed": true
   },
   "outputs": [],
   "source": [
    "count = 0;\n",
    "sum_distance = 0;\n",
    "max_distance = 0;\n",
    "flow_distance = 0;\n",
    "for i in 1:444\n",
    "    for j in 1:444\n",
    "        if Flow[i+1,j+1] >= 1\n",
    "            count = count + 1;\n",
    "            sum_distance = sum_distance + distance[NODES[i],NODES[j]];\n",
    "            max_distance = max(max_distance, distance[NODES[i],NODES[j]]);\n",
    "            flow_distance = flow_distance + Flow[i+1,j+1]*distance[NODES[i],NODES[j]]\n",
    "        end\n",
    "    end\n",
    "end\n",
    "avg_distance = sum_distance/count;"
   ]
  },
  {
   "cell_type": "code",
   "execution_count": 17,
   "metadata": {},
   "outputs": [
    {
     "data": {
      "text/plain": [
       "14.45375282192463"
      ]
     },
     "execution_count": 17,
     "metadata": {},
     "output_type": "execute_result"
    }
   ],
   "source": [
    "avg_distance"
   ]
  },
  {
   "cell_type": "code",
   "execution_count": 18,
   "metadata": {},
   "outputs": [
    {
     "data": {
      "text/plain": [
       "67.02922181255198"
      ]
     },
     "execution_count": 18,
     "metadata": {},
     "output_type": "execute_result"
    }
   ],
   "source": [
    "max_distance"
   ]
  },
  {
   "cell_type": "code",
   "execution_count": 19,
   "metadata": {},
   "outputs": [
    {
     "data": {
      "text/plain": [
       "3309.9093962207403"
      ]
     },
     "execution_count": 19,
     "metadata": {},
     "output_type": "execute_result"
    }
   ],
   "source": [
    "sum_distance"
   ]
  },
  {
   "cell_type": "code",
   "execution_count": 20,
   "metadata": {},
   "outputs": [
    {
     "data": {
      "text/plain": [
       "2.7556748170215458e7"
      ]
     },
     "execution_count": 20,
     "metadata": {},
     "output_type": "execute_result"
    }
   ],
   "source": [
    "flow_distance"
   ]
  }
 ],
 "metadata": {
  "kernelspec": {
   "display_name": "Julia 0.5.2",
   "language": "julia",
   "name": "julia-0.5"
  },
  "language_info": {
   "file_extension": ".jl",
   "mimetype": "application/julia",
   "name": "julia",
   "version": "0.5.2"
  }
 },
 "nbformat": 4,
 "nbformat_minor": 2
}
